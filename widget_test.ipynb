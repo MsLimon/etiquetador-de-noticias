{
 "cells": [
  {
   "cell_type": "code",
   "execution_count": 1,
   "metadata": {
    "scrolled": true
   },
   "outputs": [
    {
     "name": "stderr",
     "output_type": "stream",
     "text": [
      "[nltk_data] Downloading package punkt to\n",
      "[nltk_data]     /Users/martatimon/nltk_data...\n",
      "[nltk_data]   Package punkt is already up-to-date!\n",
      "[nltk_data] Downloading package punkt to\n",
      "[nltk_data]     /Users/martatimon/nltk_data...\n",
      "[nltk_data]   Package punkt is already up-to-date!\n",
      "[nltk_data] Downloading package punkt to\n",
      "[nltk_data]     /Users/martatimon/nltk_data...\n",
      "[nltk_data]   Package punkt is already up-to-date!\n"
     ]
    }
   ],
   "source": [
    "import spacy\n",
    "from spacy import displacy\n",
    "from collections import Counter\n",
    "import es_core_news_md\n",
    "import nltk\n",
    "nltk.download('punkt')\n",
    "from newspaper import Article\n",
    "\n",
    "import pandas as pd\n",
    "import numpy as np\n",
    "import re\n",
    "from bs4 import BeautifulSoup\n",
    "from tjtool import ReporterExtractor, SpacyReporterExtractor, Entities\n",
    "from analyser import Analyser"
   ]
  },
  {
   "cell_type": "code",
   "execution_count": 2,
   "metadata": {},
   "outputs": [],
   "source": [
    "df_pat = pd.read_excel(\"data/tabla_de_inversores_y_grandes_anunciantes.xlsx\")"
   ]
  },
  {
   "cell_type": "code",
   "execution_count": 3,
   "metadata": {},
   "outputs": [
    {
     "data": {
      "text/plain": [
       "empresa relacionada con el consejo de administración    152\n",
       "cargo directivo                                          42\n",
       "inversor                                                 16\n",
       "gran anunciante                                           8\n",
       "Name: pat_type, dtype: int64"
      ]
     },
     "execution_count": 3,
     "metadata": {},
     "output_type": "execute_result"
    }
   ],
   "source": [
    "df_pat.pat_type.value_counts()"
   ]
  },
  {
   "cell_type": "code",
   "execution_count": 4,
   "metadata": {},
   "outputs": [
    {
     "data": {
      "text/plain": [
       "https://elpais.com       183\n",
       "https://okdiario.com/     35\n",
       "Name: media_url, dtype: int64"
      ]
     },
     "execution_count": 4,
     "metadata": {},
     "output_type": "execute_result"
    }
   ],
   "source": [
    "df_pat.media_url.value_counts()"
   ]
  },
  {
   "cell_type": "code",
   "execution_count": 5,
   "metadata": {},
   "outputs": [
    {
     "data": {
      "text/html": [
       "<div>\n",
       "<style scoped>\n",
       "    .dataframe tbody tr th:only-of-type {\n",
       "        vertical-align: middle;\n",
       "    }\n",
       "\n",
       "    .dataframe tbody tr th {\n",
       "        vertical-align: top;\n",
       "    }\n",
       "\n",
       "    .dataframe thead th {\n",
       "        text-align: right;\n",
       "    }\n",
       "</style>\n",
       "<table border=\"1\" class=\"dataframe\">\n",
       "  <thead>\n",
       "    <tr style=\"text-align: right;\">\n",
       "      <th></th>\n",
       "      <th>media_name</th>\n",
       "      <th>media_url</th>\n",
       "      <th>pat_entity</th>\n",
       "      <th>pat_type</th>\n",
       "    </tr>\n",
       "  </thead>\n",
       "  <tbody>\n",
       "    <tr>\n",
       "      <th>213</th>\n",
       "      <td>OK DIARIO</td>\n",
       "      <td>https://okdiario.com/</td>\n",
       "      <td>Asesores Juridicos Financieros Oviedo</td>\n",
       "      <td>empresa relacionada con el consejo de administ...</td>\n",
       "    </tr>\n",
       "    <tr>\n",
       "      <th>214</th>\n",
       "      <td>EL PAÍS</td>\n",
       "      <td>https://elpais.com</td>\n",
       "      <td>BBVA</td>\n",
       "      <td>gran anunciante</td>\n",
       "    </tr>\n",
       "    <tr>\n",
       "      <th>215</th>\n",
       "      <td>EL PAÍS</td>\n",
       "      <td>https://elpais.com</td>\n",
       "      <td>Repsol</td>\n",
       "      <td>gran anunciante</td>\n",
       "    </tr>\n",
       "    <tr>\n",
       "      <th>216</th>\n",
       "      <td>EL PAÍS</td>\n",
       "      <td>https://elpais.com</td>\n",
       "      <td>Burgo de Arias</td>\n",
       "      <td>gran anunciante</td>\n",
       "    </tr>\n",
       "    <tr>\n",
       "      <th>217</th>\n",
       "      <td>EL PAÍS</td>\n",
       "      <td>https://elpais.com</td>\n",
       "      <td>Ecoembes</td>\n",
       "      <td>gran anunciante</td>\n",
       "    </tr>\n",
       "  </tbody>\n",
       "</table>\n",
       "</div>"
      ],
      "text/plain": [
       "    media_name              media_url                             pat_entity  \\\n",
       "213  OK DIARIO  https://okdiario.com/  Asesores Juridicos Financieros Oviedo   \n",
       "214    EL PAÍS     https://elpais.com                                   BBVA   \n",
       "215    EL PAÍS     https://elpais.com                                 Repsol   \n",
       "216    EL PAÍS     https://elpais.com                         Burgo de Arias   \n",
       "217    EL PAÍS     https://elpais.com                               Ecoembes   \n",
       "\n",
       "                                              pat_type  \n",
       "213  empresa relacionada con el consejo de administ...  \n",
       "214                                    gran anunciante  \n",
       "215                                    gran anunciante  \n",
       "216                                    gran anunciante  \n",
       "217                                    gran anunciante  "
      ]
     },
     "execution_count": 5,
     "metadata": {},
     "output_type": "execute_result"
    }
   ],
   "source": [
    "df_pat.tail()"
   ]
  },
  {
   "cell_type": "code",
   "execution_count": 6,
   "metadata": {
    "scrolled": false
   },
   "outputs": [
    {
     "data": {
      "text/html": [
       "<div>\n",
       "<style scoped>\n",
       "    .dataframe tbody tr th:only-of-type {\n",
       "        vertical-align: middle;\n",
       "    }\n",
       "\n",
       "    .dataframe tbody tr th {\n",
       "        vertical-align: top;\n",
       "    }\n",
       "\n",
       "    .dataframe thead th {\n",
       "        text-align: right;\n",
       "    }\n",
       "</style>\n",
       "<table border=\"1\" class=\"dataframe\">\n",
       "  <thead>\n",
       "    <tr style=\"text-align: right;\">\n",
       "      <th></th>\n",
       "      <th>media_name</th>\n",
       "      <th>media_url</th>\n",
       "    </tr>\n",
       "  </thead>\n",
       "  <tbody>\n",
       "    <tr>\n",
       "      <th>0</th>\n",
       "      <td>EL PAÍS</td>\n",
       "      <td>https://elpais.com</td>\n",
       "    </tr>\n",
       "    <tr>\n",
       "      <th>179</th>\n",
       "      <td>OK DIARIO</td>\n",
       "      <td>https://okdiario.com/</td>\n",
       "    </tr>\n",
       "  </tbody>\n",
       "</table>\n",
       "</div>"
      ],
      "text/plain": [
       "    media_name              media_url\n",
       "0      EL PAÍS     https://elpais.com\n",
       "179  OK DIARIO  https://okdiario.com/"
      ]
     },
     "execution_count": 6,
     "metadata": {},
     "output_type": "execute_result"
    }
   ],
   "source": [
    "df_pat[[\"media_name\",\"media_url\"]].drop_duplicates()"
   ]
  },
  {
   "cell_type": "markdown",
   "metadata": {},
   "source": [
    "# Article 1"
   ]
  },
  {
   "cell_type": "code",
   "execution_count": 7,
   "metadata": {},
   "outputs": [],
   "source": [
    "url = \"https://elpais.com/elpais/2020/10/15/eps/1602791241_501128.html\""
   ]
  },
  {
   "cell_type": "code",
   "execution_count": 8,
   "metadata": {},
   "outputs": [],
   "source": [
    "article_analizer = Analyser(url)"
   ]
  },
  {
   "cell_type": "code",
   "execution_count": 9,
   "metadata": {
    "scrolled": false
   },
   "outputs": [
    {
     "name": "stdout",
     "output_type": "stream",
     "text": [
      "------------------------FULL REPORT---------------------\n",
      "\n",
      "Fecha de publicación: 15-10-2020 00:00:00\n",
      "\n",
      "Autores:\n",
      "['Ediciones El País']\n",
      "\n",
      "------------------\n",
      "\n",
      "\n",
      "- No hemos detectado patrocinio explicito\n",
      "\n",
      "- Hemos encontrado 1 fuente(s) en el artículo:\n",
      "\n",
      "['Albert Carné']\n",
      "\n",
      "- Hemos detectado que este articulo habla sobre Banco Sabadell, que es un gran anunciante de EL PAÍS\n",
      "\n",
      "------------------\n",
      "\n",
      "\n",
      "El artículo ha sido clasificado como Publicidad Encubierta\n",
      "\n"
     ]
    }
   ],
   "source": [
    "article_analizer.full_report()"
   ]
  },
  {
   "cell_type": "markdown",
   "metadata": {},
   "source": [
    "# Article 2"
   ]
  },
  {
   "cell_type": "code",
   "execution_count": 10,
   "metadata": {},
   "outputs": [],
   "source": [
    "url = \"https://elpais.com/economia/el-observatorio-vodafone-de-la-empresa/2020-11-03/que-puede-ensenar-la-banca-online-a-otras-empresas-sobre-atencion-al-cliente.html\""
   ]
  },
  {
   "cell_type": "code",
   "execution_count": 11,
   "metadata": {},
   "outputs": [],
   "source": [
    "article_analizer = Analyser(url)"
   ]
  },
  {
   "cell_type": "code",
   "execution_count": 12,
   "metadata": {
    "scrolled": false
   },
   "outputs": [
    {
     "name": "stdout",
     "output_type": "stream",
     "text": [
      "------------------------FULL REPORT---------------------\n",
      "\n",
      "Fecha de publicación: 03-11-2020 00:00:00\n",
      "\n",
      "Autores:\n",
      "[]\n",
      "\n",
      "------------------\n",
      "\n",
      "\n",
      "- Hemos detectado que este es un articulo patrocinado por Vodafone\n",
      "\n",
      "- Hemos encontrado 1 fuente(s) en el artículo:\n",
      "\n",
      "['Kissler']\n",
      "\n",
      "- Hemos detectado que este articulo habla sobre Vodafone, que es un gran anunciante de EL PAÍS\n",
      "\n",
      "------------------\n",
      "\n",
      "\n",
      "El artículo ha sido clasificado como Publicidad\n",
      "\n"
     ]
    }
   ],
   "source": [
    "article_analizer.full_report()"
   ]
  },
  {
   "cell_type": "markdown",
   "metadata": {},
   "source": [
    "# Article 3"
   ]
  },
  {
   "cell_type": "code",
   "execution_count": 13,
   "metadata": {},
   "outputs": [],
   "source": [
    "url = \"https://elpais.com/planeta-futuro/2020-11-13/cantautoras-de-america-y-europa-se-unen-en-un-festival-para-ayudar-a-los-damnificados-del-huracan-eta.html\""
   ]
  },
  {
   "cell_type": "code",
   "execution_count": 14,
   "metadata": {},
   "outputs": [],
   "source": [
    "article_analizer = Analyser(url)"
   ]
  },
  {
   "cell_type": "code",
   "execution_count": 15,
   "metadata": {
    "scrolled": false
   },
   "outputs": [
    {
     "name": "stdout",
     "output_type": "stream",
     "text": [
      "------------------------FULL REPORT---------------------\n",
      "\n",
      "Fecha de publicación: 13-11-2020 00:00:00\n",
      "\n",
      "Autores:\n",
      "['Asier Vera Santamaría', 'Xun Ciin']\n",
      "\n",
      "------------------\n",
      "\n",
      "\n",
      "- Hemos detectado que este es un articulo patrocinado por Bill & Melinda Gates Foundation\n",
      "\n",
      "- Hemos encontrado 1 fuente(s) en el artículo:\n",
      "\n",
      "['Gobierno']\n",
      "\n",
      "- No hemos detectado que este articulo hable sobre algún gran anunciante o inversor de EL PAÍS\n",
      "\n",
      "------------------\n",
      "\n",
      "\n",
      "El artículo ha sido clasificado como Contenido Patrocinado\n",
      "\n"
     ]
    }
   ],
   "source": [
    "article_analizer.full_report()"
   ]
  },
  {
   "cell_type": "markdown",
   "metadata": {},
   "source": [
    "# Article 4"
   ]
  },
  {
   "cell_type": "code",
   "execution_count": 16,
   "metadata": {},
   "outputs": [],
   "source": [
    "url = \"https://elpais.com/sociedad/2020-11-28/ya-nadie-piensa-en-salvar-la-navidad.html\""
   ]
  },
  {
   "cell_type": "code",
   "execution_count": 17,
   "metadata": {},
   "outputs": [],
   "source": [
    "article_analizer = Analyser(url)"
   ]
  },
  {
   "cell_type": "code",
   "execution_count": 18,
   "metadata": {
    "scrolled": false
   },
   "outputs": [
    {
     "name": "stdout",
     "output_type": "stream",
     "text": [
      "------------------------FULL REPORT---------------------\n",
      "\n",
      "Fecha de publicación: 28-11-2020 00:00:00\n",
      "\n",
      "Autores:\n",
      "['Pablo Linde', 'Marta Fernández Jara', 'Europa Press']\n",
      "\n",
      "------------------\n",
      "\n",
      "\n",
      "- No hemos detectado patrocinio explicito\n",
      "\n",
      "- Hemos encontrado 4 fuente(s) en el artículo:\n",
      "\n",
      "['Ana María García', 'de Biología del CSIC', 'Salvador Illa', 'Alberto Infante']\n",
      "\n",
      "- No hemos detectado que este articulo hable sobre algún gran anunciante o inversor de EL PAÍS\n",
      "\n",
      "------------------\n",
      "\n",
      "\n",
      "El artículo ha sido clasificado como Información\n",
      "\n"
     ]
    }
   ],
   "source": [
    "article_analizer.full_report()"
   ]
  },
  {
   "cell_type": "markdown",
   "metadata": {},
   "source": [
    "# Article 5"
   ]
  },
  {
   "cell_type": "code",
   "execution_count": 19,
   "metadata": {},
   "outputs": [],
   "source": [
    "url= \"https://okdiario.com/espana/pedro-sanchez-bloquea-plan-apoyo-canarias-mas-80-millones-plena-invasion-pateras-6501925\""
   ]
  },
  {
   "cell_type": "code",
   "execution_count": 20,
   "metadata": {},
   "outputs": [],
   "source": [
    "article_analizer = Analyser(url)"
   ]
  },
  {
   "cell_type": "code",
   "execution_count": 21,
   "metadata": {
    "scrolled": false
   },
   "outputs": [
    {
     "name": "stdout",
     "output_type": "stream",
     "text": [
      "------------------------FULL REPORT---------------------\n",
      "\n",
      "Fecha de publicación: 29-11-2020 13:26:32\n",
      "\n",
      "Autores:\n",
      "[]\n",
      "\n",
      "------------------\n",
      "\n",
      "\n",
      "- De momento no tenemos un método para detectar patrocinio explicito en el medio https://okdiario.com :(\n",
      "\n",
      "- Hemos encontrado 2 fuente(s) en el artículo:\n",
      "\n",
      "['Gobierno', 'Grande-Marlaska']\n",
      "\n",
      "- De momento no tenemos información sobre los financiadores del medio https://okdiario.com :(\n",
      "\n",
      "------------------\n",
      "\n",
      "\n",
      "El artículo ha sido clasificado como Contenido Parcial\n",
      "\n"
     ]
    }
   ],
   "source": [
    "article_analizer.full_report()"
   ]
  }
 ],
 "metadata": {
  "kernelspec": {
   "display_name": "Python 3",
   "language": "python",
   "name": "python3"
  },
  "language_info": {
   "codemirror_mode": {
    "name": "ipython",
    "version": 3
   },
   "file_extension": ".py",
   "mimetype": "text/x-python",
   "name": "python",
   "nbconvert_exporter": "python",
   "pygments_lexer": "ipython3",
   "version": "3.6.11"
  }
 },
 "nbformat": 4,
 "nbformat_minor": 4
}
